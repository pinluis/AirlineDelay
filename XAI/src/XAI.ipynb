{
 "cells": [
  {
   "cell_type": "code",
   "execution_count": 9,
   "metadata": {},
   "outputs": [
    {
     "ename": "IndexError",
     "evalue": "list index out of range",
     "output_type": "error",
     "traceback": [
      "\u001b[0;31m---------------------------------------------------------------------------\u001b[0m",
      "\u001b[0;31mIndexError\u001b[0m                                Traceback (most recent call last)",
      "Cell \u001b[0;32mIn[9], line 41\u001b[0m\n\u001b[1;32m     39\u001b[0m \u001b[39m# Explain instance for logistic regression model\u001b[39;00m\n\u001b[1;32m     40\u001b[0m exp_log_reg \u001b[39m=\u001b[39m explainer\u001b[39m.\u001b[39mexplain_instance(X_test[i], log_reg_model\u001b[39m.\u001b[39mpredict_proba, num_features\u001b[39m=\u001b[39m\u001b[39m5\u001b[39m, top_labels\u001b[39m=\u001b[39m\u001b[39m1\u001b[39m)\n\u001b[0;32m---> 41\u001b[0m \u001b[39mif\u001b[39;00m \u001b[39mlen\u001b[39m(exp_log_reg\u001b[39m.\u001b[39;49mas_list()) \u001b[39m>\u001b[39m\u001b[39m=\u001b[39m \u001b[39m5\u001b[39m:\n\u001b[1;32m     42\u001b[0m     exp_log_reg\u001b[39m.\u001b[39mshow_in_notebook(show_table\u001b[39m=\u001b[39m\u001b[39mTrue\u001b[39;00m, show_all\u001b[39m=\u001b[39m\u001b[39mFalse\u001b[39;00m)\n\u001b[1;32m     43\u001b[0m \u001b[39melse\u001b[39;00m:\n",
      "File \u001b[0;32m~/.local/lib/python3.9/site-packages/lime/explanation.py:141\u001b[0m, in \u001b[0;36mExplanation.as_list\u001b[0;34m(self, label, **kwargs)\u001b[0m\n\u001b[1;32m    128\u001b[0m \u001b[39m\u001b[39m\u001b[39m\"\"\"Returns the explanation as a list.\u001b[39;00m\n\u001b[1;32m    129\u001b[0m \n\u001b[1;32m    130\u001b[0m \u001b[39mArgs:\u001b[39;00m\n\u001b[0;32m   (...)\u001b[0m\n\u001b[1;32m    138\u001b[0m \u001b[39m    given by domain_mapper. Weight is a float.\u001b[39;00m\n\u001b[1;32m    139\u001b[0m \u001b[39m\"\"\"\u001b[39;00m\n\u001b[1;32m    140\u001b[0m label_to_use \u001b[39m=\u001b[39m label \u001b[39mif\u001b[39;00m \u001b[39mself\u001b[39m\u001b[39m.\u001b[39mmode \u001b[39m==\u001b[39m \u001b[39m\"\u001b[39m\u001b[39mclassification\u001b[39m\u001b[39m\"\u001b[39m \u001b[39melse\u001b[39;00m \u001b[39mself\u001b[39m\u001b[39m.\u001b[39mdummy_label\n\u001b[0;32m--> 141\u001b[0m ans \u001b[39m=\u001b[39m \u001b[39mself\u001b[39;49m\u001b[39m.\u001b[39;49mdomain_mapper\u001b[39m.\u001b[39;49mmap_exp_ids(\u001b[39mself\u001b[39;49m\u001b[39m.\u001b[39;49mlocal_exp[label_to_use], \u001b[39m*\u001b[39;49m\u001b[39m*\u001b[39;49mkwargs)\n\u001b[1;32m    142\u001b[0m ans \u001b[39m=\u001b[39m [(x[\u001b[39m0\u001b[39m], \u001b[39mfloat\u001b[39m(x[\u001b[39m1\u001b[39m])) \u001b[39mfor\u001b[39;00m x \u001b[39min\u001b[39;00m ans]\n\u001b[1;32m    143\u001b[0m \u001b[39mreturn\u001b[39;00m ans\n",
      "File \u001b[0;32m~/.local/lib/python3.9/site-packages/lime/lime_tabular.py:64\u001b[0m, in \u001b[0;36mTableDomainMapper.map_exp_ids\u001b[0;34m(self, exp)\u001b[0m\n\u001b[1;32m     62\u001b[0m \u001b[39mif\u001b[39;00m \u001b[39mself\u001b[39m\u001b[39m.\u001b[39mdiscretized_feature_names \u001b[39mis\u001b[39;00m \u001b[39mnot\u001b[39;00m \u001b[39mNone\u001b[39;00m:\n\u001b[1;32m     63\u001b[0m     names \u001b[39m=\u001b[39m \u001b[39mself\u001b[39m\u001b[39m.\u001b[39mdiscretized_feature_names\n\u001b[0;32m---> 64\u001b[0m \u001b[39mreturn\u001b[39;00m [(names[x[\u001b[39m0\u001b[39m]], x[\u001b[39m1\u001b[39m]) \u001b[39mfor\u001b[39;00m x \u001b[39min\u001b[39;00m exp]\n",
      "File \u001b[0;32m~/.local/lib/python3.9/site-packages/lime/lime_tabular.py:64\u001b[0m, in \u001b[0;36m<listcomp>\u001b[0;34m(.0)\u001b[0m\n\u001b[1;32m     62\u001b[0m \u001b[39mif\u001b[39;00m \u001b[39mself\u001b[39m\u001b[39m.\u001b[39mdiscretized_feature_names \u001b[39mis\u001b[39;00m \u001b[39mnot\u001b[39;00m \u001b[39mNone\u001b[39;00m:\n\u001b[1;32m     63\u001b[0m     names \u001b[39m=\u001b[39m \u001b[39mself\u001b[39m\u001b[39m.\u001b[39mdiscretized_feature_names\n\u001b[0;32m---> 64\u001b[0m \u001b[39mreturn\u001b[39;00m [(names[x[\u001b[39m0\u001b[39;49m]], x[\u001b[39m1\u001b[39m]) \u001b[39mfor\u001b[39;00m x \u001b[39min\u001b[39;00m exp]\n",
      "\u001b[0;31mIndexError\u001b[0m: list index out of range"
     ]
    }
   ],
   "source": [
    "import lime\n",
    "from lime import lime_tabular\n",
    "import pickle\n",
    "import pandas as pd\n",
    "import numpy as np\n",
    "from xaipreprocessing import preprocess_data\n",
    "\n",
    "# Load your models\n",
    "with open(\"../../Models/logistic_regression_model.pkl\", \"rb\") as file:\n",
    "    log_reg_model = pickle.load(file)\n",
    "\n",
    "with open(\"../../Models/random_forest_model.pkl\", \"rb\") as file:\n",
    "    rf_model = pickle.load(file)\n",
    "\n",
    "# Generate X_train, X_test, y_train, y_test\n",
    "\n",
    "data = pd.read_csv('../../data/airlines_delay_cleaned.csv')\n",
    "\n",
    "# Get feature names before preprocessing\n",
    "\n",
    "feature_names = data.drop(columns=['Delayed']).columns.tolist()\n",
    "\n",
    "\n",
    "X_train, X_test, y_train, y_test = preprocess_data(data)\n",
    "\n",
    "class_names = ['class_0', 'class_1'] # names of your classes\n",
    "\n",
    "# Create a LimeTabularExplainer\n",
    "explainer = lime_tabular.LimeTabularExplainer(X_train, feature_names=feature_names, class_names=class_names, discretize_continuous=True)\n",
    "\n",
    "# Choose a random instance to explain\n",
    "i = np.random.randint(0, X_test.shape[0])\n",
    "\n",
    "# Explain instance for logistic regression model\n",
    "exp_log_reg = explainer.explain_instance(X_test[i], log_reg_model.predict_proba, num_features=5, top_labels=1)\n",
    "# Explain instance for random forest model\n",
    "exp_rf = explainer.explain_instance(X_test[i], rf_model.predict_proba, num_features=5, top_labels=1)\n",
    "\n",
    "# Explain instance for logistic regression model\n",
    "exp_log_reg = explainer.explain_instance(X_test[i], log_reg_model.predict_proba, num_features=5, top_labels=1)\n",
    "if len(exp_log_reg.as_list()) >= 5:\n",
    "    exp_log_reg.show_in_notebook(show_table=True, show_all=False)\n",
    "else:\n",
    "    print(\"Insufficient features in the explanation for logistic regression model.\")\n",
    "\n",
    "# Explain instance for random forest model\n",
    "exp_rf = explainer.explain_instance(X_test[i], rf_model.predict_proba, num_features=5, top_labels=1)\n",
    "if len(exp_rf.as_list()) >= 5:\n",
    "    exp_rf.show_in_notebook(show_table=True, show_all=False)\n",
    "else:\n",
    "    print(\"Insufficient features in the explanation for random forest model.\")\n",
    "\n"
   ]
  }
 ],
 "metadata": {
  "kernelspec": {
   "display_name": "Python 3",
   "language": "python",
   "name": "python3"
  },
  "language_info": {
   "codemirror_mode": {
    "name": "ipython",
    "version": 3
   },
   "file_extension": ".py",
   "mimetype": "text/x-python",
   "name": "python",
   "nbconvert_exporter": "python",
   "pygments_lexer": "ipython3",
   "version": "3.9.16"
  },
  "orig_nbformat": 4
 },
 "nbformat": 4,
 "nbformat_minor": 2
}
