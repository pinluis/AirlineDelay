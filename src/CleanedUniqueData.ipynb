{
 "cells": [
  {
   "cell_type": "code",
   "execution_count": 4,
   "metadata": {},
   "outputs": [],
   "source": [
    "import pandas as pd\n",
    "\n",
    "df = pd.read_csv('../data/airlines_delay_cleaned.csv')\n",
    "\n",
    "df.head()\n",
    "\n",
    "df_Airline = df.drop(columns=['Time','Length','Delayed','DayOfWeek','AirportFrom','AirportTo'])\n",
    "df_Airport = df.drop(columns=['Time','Length','Delayed','DayOfWeek','Airline','AirportTo'])\n",
    "\n",
    "df_Airline = df_Airline.drop_duplicates(keep='first')  \n",
    "df_Airport = df_Airport.drop_duplicates(keep='first')  \n",
    "\n",
    "dfAirport = df_Airport.rename(columns={'AirportFrom':'Airport'}, inplace=True)\n",
    "\n",
    "df_Airline.to_csv('../data/airlines_delay_cleaned_unique_airline.csv', index=False)\n",
    "df_Airport.to_csv('../data/airlines_delay_cleaned_unique_airport.csv', index=False)\n",
    "\n",
    "\n"
   ]
  }
 ],
 "metadata": {
  "kernelspec": {
   "display_name": "Python 3",
   "language": "python",
   "name": "python3"
  },
  "language_info": {
   "codemirror_mode": {
    "name": "ipython",
    "version": 3
   },
   "file_extension": ".py",
   "mimetype": "text/x-python",
   "name": "python",
   "nbconvert_exporter": "python",
   "pygments_lexer": "ipython3",
   "version": "3.9.16"
  },
  "orig_nbformat": 4
 },
 "nbformat": 4,
 "nbformat_minor": 2
}
